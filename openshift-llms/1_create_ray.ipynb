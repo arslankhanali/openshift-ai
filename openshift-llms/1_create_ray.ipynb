{
 "cells": [
  {
   "cell_type": "code",
   "execution_count": 1,
   "id": "5806e618-7751-4011-a8d4-21d0b08d21a9",
   "metadata": {
    "tags": []
   },
   "outputs": [],
   "source": [
    "from codeflare_sdk.cluster.cluster import Cluster, ClusterConfiguration\n",
    "from codeflare_sdk.cluster.auth import TokenAuthentication"
   ]
  },
  {
   "cell_type": "code",
   "execution_count": 2,
   "id": "dd2cfffd-399f-4305-ba0a-f5fa63041904",
   "metadata": {
    "tags": []
   },
   "outputs": [
    {
     "data": {
      "text/plain": [
       "'Logged into https://api.cluster-jvn94.sandbox991.opentlc.com:6443'"
      ]
     },
     "execution_count": 2,
     "metadata": {},
     "output_type": "execute_result"
    }
   ],
   "source": [
    "auth = TokenAuthentication(\n",
    "    token = \"token\",\n",
    "    server = \"url\",\n",
    "    skip_tls=False\n",
    ")\n",
    "auth.login()"
   ]
  },
  {
   "cell_type": "code",
   "execution_count": 22,
   "id": "d9f81d59-a4fd-4420-8a83-8eeab9c74f5f",
   "metadata": {
    "tags": []
   },
   "outputs": [
    {
     "name": "stdout",
     "output_type": "stream",
     "text": [
      "Written to: /opt/app-root/src/.codeflare/appwrapper/llamafinetuneloraclustertest.yaml\n"
     ]
    }
   ],
   "source": [
    "cluster = Cluster(ClusterConfiguration(\n",
    "    name='llamafinetuneloraclustertest',\n",
    "    namespace='default',\n",
    "    num_workers=1,\n",
    "    min_cpus=4,\n",
    "    max_cpus=4,\n",
    "    min_memory=96,\n",
    "    max_memory=96,\n",
    "    num_gpus=2,\n",
    "    image='quay.io/project-codeflare/ray:latest-py39-cu118',\n",
    "    instascale=False, #<---instascale enabled\n",
    "    #machine_types=[\"m5.xlarge\", \"g4dn.xlarge\"],\n",
    "))"
   ]
  },
  {
   "cell_type": "code",
   "execution_count": 23,
   "id": "a7c4e2e7-2548-4156-a210-4c6131286db5",
   "metadata": {
    "tags": []
   },
   "outputs": [],
   "source": [
    "cluster.up()"
   ]
  },
  {
   "cell_type": "code",
   "execution_count": 24,
   "id": "825eb394-45ec-48c4-863b-57d66c572b0f",
   "metadata": {
    "tags": []
   },
   "outputs": [
    {
     "name": "stdout",
     "output_type": "stream",
     "text": [
      "Waiting for requested resources to be set up...\n",
      "Requested cluster is up and running!\n",
      "Dashboard is ready!\n"
     ]
    }
   ],
   "source": [
    "cluster.wait_ready()"
   ]
  },
  {
   "cell_type": "code",
   "execution_count": 25,
   "id": "5b45df65-7072-4e27-8713-f497cfd90b0a",
   "metadata": {
    "tags": []
   },
   "outputs": [
    {
     "data": {
      "text/html": [
       "<pre style=\"white-space:pre;overflow-x:auto;line-height:normal;font-family:Menlo,'DejaVu Sans Mono',consolas,'Courier New',monospace\"><span style=\"font-style: italic\">                           </span><span style=\"font-weight: bold; font-style: italic\"> 🚀 CodeFlare Cluster Details 🚀</span><span style=\"font-style: italic\">                            </span>\n",
       "<span style=\"font-weight: bold\">                                                                                       </span>\n",
       " ╭───────────────────────────────────────────────────────────────────────────────────╮ \n",
       " │   <span style=\"color: #c0c0c0; text-decoration-color: #c0c0c0; background-color: #008000; font-weight: bold\">Name</span>                                                                            │ \n",
       " │   <span style=\"font-weight: bold; text-decoration: underline\">llamafinetuneloraclustertest</span>                                        Active ✅   │ \n",
       " │                                                                                   │ \n",
       " │   <span style=\"font-weight: bold\">URI:</span> ray://llamafinetuneloraclustertest-head-svc.default.svc:10001              │ \n",
       " │                                                                                   │ \n",
       " │   <a href=\"http://ray-dashboard-llamafinetuneloraclustertest-default.apps.cluster-jvn94.sandbox991.opentlc.com\" target=\"_blank\"><span style=\"color: #000080; text-decoration-color: #000080; text-decoration: underline\">Dashboard🔗</span></a>                                                                     │ \n",
       " │                                                                                   │ \n",
       " │  <span style=\"font-style: italic\">                     Cluster Resources                     </span>                      │ \n",
       " │   ╭── Workers ──╮  ╭───────── Worker specs(each) ─────────╮                       │ \n",
       " │   │ <span style=\"font-weight: bold\"> # Workers </span> │  │ <span style=\"font-weight: bold\"> Memory      CPU         GPU        </span> │                       │ \n",
       " │   │ <span style=\"color: #800080; text-decoration-color: #800080\">           </span> │  │ <span style=\"color: #008080; text-decoration-color: #008080\">            </span><span style=\"color: #800080; text-decoration-color: #800080\">                        </span> │                       │ \n",
       " │   │ <span style=\"color: #800080; text-decoration-color: #800080\"> 1         </span> │  │ <span style=\"color: #008080; text-decoration-color: #008080\"> 96~96      </span><span style=\"color: #800080; text-decoration-color: #800080\"> 4           2          </span> │                       │ \n",
       " │   │ <span style=\"color: #800080; text-decoration-color: #800080\">           </span> │  │ <span style=\"color: #008080; text-decoration-color: #008080\">            </span><span style=\"color: #800080; text-decoration-color: #800080\">                        </span> │                       │ \n",
       " │   ╰─────────────╯  ╰──────────────────────────────────────╯                       │ \n",
       " ╰───────────────────────────────────────────────────────────────────────────────────╯ \n",
       "</pre>\n"
      ],
      "text/plain": [
       "\u001b[3m                           \u001b[0m\u001b[1;3m 🚀 CodeFlare Cluster Details 🚀\u001b[0m\u001b[3m                            \u001b[0m\n",
       "\u001b[1m \u001b[0m\u001b[1m                                                                                     \u001b[0m\u001b[1m \u001b[0m\n",
       " ╭───────────────────────────────────────────────────────────────────────────────────╮ \n",
       " │   \u001b[1;37;42mName\u001b[0m                                                                            │ \n",
       " │   \u001b[1;4mllamafinetuneloraclustertest\u001b[0m                                        Active ✅   │ \n",
       " │                                                                                   │ \n",
       " │   \u001b[1mURI:\u001b[0m ray://llamafinetuneloraclustertest-head-svc.default.svc:10001              │ \n",
       " │                                                                                   │ \n",
       " │   \u001b]8;id=429942;http://ray-dashboard-llamafinetuneloraclustertest-default.apps.cluster-jvn94.sandbox991.opentlc.com\u001b\\\u001b[4;34mDashboard🔗\u001b[0m\u001b]8;;\u001b\\                                                                     │ \n",
       " │                                                                                   │ \n",
       " │  \u001b[3m                     Cluster Resources                     \u001b[0m                      │ \n",
       " │   ╭── Workers ──╮  ╭───────── Worker specs(each) ─────────╮                       │ \n",
       " │   │ \u001b[1m \u001b[0m\u001b[1m# Workers\u001b[0m\u001b[1m \u001b[0m │  │ \u001b[1m \u001b[0m\u001b[1mMemory    \u001b[0m\u001b[1m \u001b[0m\u001b[1m \u001b[0m\u001b[1mCPU       \u001b[0m\u001b[1m \u001b[0m\u001b[1m \u001b[0m\u001b[1mGPU       \u001b[0m\u001b[1m \u001b[0m │                       │ \n",
       " │   │ \u001b[35m \u001b[0m\u001b[35m         \u001b[0m\u001b[35m \u001b[0m │  │ \u001b[36m \u001b[0m\u001b[36m          \u001b[0m\u001b[36m \u001b[0m\u001b[35m \u001b[0m\u001b[35m          \u001b[0m\u001b[35m \u001b[0m\u001b[35m \u001b[0m\u001b[35m          \u001b[0m\u001b[35m \u001b[0m │                       │ \n",
       " │   │ \u001b[35m \u001b[0m\u001b[35m1        \u001b[0m\u001b[35m \u001b[0m │  │ \u001b[36m \u001b[0m\u001b[36m96~96     \u001b[0m\u001b[36m \u001b[0m\u001b[35m \u001b[0m\u001b[35m4         \u001b[0m\u001b[35m \u001b[0m\u001b[35m \u001b[0m\u001b[35m2         \u001b[0m\u001b[35m \u001b[0m │                       │ \n",
       " │   │ \u001b[35m \u001b[0m\u001b[35m         \u001b[0m\u001b[35m \u001b[0m │  │ \u001b[36m \u001b[0m\u001b[36m          \u001b[0m\u001b[36m \u001b[0m\u001b[35m \u001b[0m\u001b[35m          \u001b[0m\u001b[35m \u001b[0m\u001b[35m \u001b[0m\u001b[35m          \u001b[0m\u001b[35m \u001b[0m │                       │ \n",
       " │   ╰─────────────╯  ╰──────────────────────────────────────╯                       │ \n",
       " ╰───────────────────────────────────────────────────────────────────────────────────╯ \n"
      ]
     },
     "metadata": {},
     "output_type": "display_data"
    },
    {
     "data": {
      "text/plain": [
       "RayCluster(name='llamafinetuneloraclustertest', status=<RayClusterStatus.READY: 'ready'>, head_cpus=2, head_mem=8, head_gpu=0, workers=1, worker_mem_min=96, worker_mem_max=96, worker_cpu=4, worker_gpu=2, namespace='default', dashboard='http://ray-dashboard-llamafinetuneloraclustertest-default.apps.cluster-jvn94.sandbox991.opentlc.com')"
      ]
     },
     "execution_count": 25,
     "metadata": {},
     "output_type": "execute_result"
    }
   ],
   "source": [
    "cluster.details()"
   ]
  },
  {
   "cell_type": "code",
   "execution_count": 26,
   "id": "59ff21a7-d27b-4cb7-babb-3c1cd6e3ec7b",
   "metadata": {
    "tags": []
   },
   "outputs": [],
   "source": [
    "from codeflare_sdk.job.jobs import DDPJobDefinition"
   ]
  },
  {
   "cell_type": "code",
   "execution_count": 27,
   "id": "8e178b19-c7bb-4219-86ad-5678aeeb1453",
   "metadata": {
    "tags": []
   },
   "outputs": [
    {
     "name": "stderr",
     "output_type": "stream",
     "text": [
      "The Ray scheduler does not support port mapping.\n",
      "2024-03-10 08:27:01,948\tINFO dashboard_sdk.py:338 -- Uploading package gcs://_ray_pkg_51de4185a0c914d6.zip.\n",
      "2024-03-10 08:27:01,950\tINFO packaging.py:518 -- Creating a file package for local directory '/tmp/torchx_workspacez_58_5cw'.\n",
      "2024-03-10 08:27:02,047\tWARNING packaging.py:393 -- File /tmp/torchx_workspacez_58_5cw/git-lfs-3.4.0/git-lfs is very large (10.84MiB). Consider adding this file to the 'excludes' list to skip uploading it: `ray.init(..., runtime_env={'excludes': ['/tmp/torchx_workspacez_58_5cw/git-lfs-3.4.0/git-lfs']})`\n"
     ]
    }
   ],
   "source": [
    "jobdef = DDPJobDefinition(\n",
    "    name=\"llamafinetunelora43\",\n",
    "    script=\"llmfinetune.py\",\n",
    "    #script_args=arg_list,\n",
    "    scheduler_args={\"requirements\": \"requirements.txt\"}\n",
    "    \n",
    "\n",
    ")\n",
    "job = jobdef.submit(cluster)"
   ]
  },
  {
   "cell_type": "code",
   "execution_count": 21,
   "id": "ad75cd0a-9db0-405c-8e54-25b9db47271a",
   "metadata": {
    "tags": []
   },
   "outputs": [],
   "source": [
    "cluster.down()"
   ]
  }
 ],
 "metadata": {
  "kernelspec": {
   "display_name": "Python 3.9",
   "language": "python",
   "name": "python3"
  },
  "language_info": {
   "codemirror_mode": {
    "name": "ipython",
    "version": 3
   },
   "file_extension": ".py",
   "mimetype": "text/x-python",
   "name": "python",
   "nbconvert_exporter": "python",
   "pygments_lexer": "ipython3",
   "version": "3.9.18"
  }
 },
 "nbformat": 4,
 "nbformat_minor": 5
}
