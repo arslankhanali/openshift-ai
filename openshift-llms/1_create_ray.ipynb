{
 "cells": [
  {
   "cell_type": "code",
   "execution_count": null,
   "id": "5806e618-7751-4011-a8d4-21d0b08d21a9",
   "metadata": {
    "tags": []
   },
   "outputs": [],
   "source": [
    "from codeflare_sdk.cluster.cluster import Cluster, ClusterConfiguration\n",
    "from codeflare_sdk.cluster.auth import TokenAuthentication"
   ]
  },
  {
   "cell_type": "code",
   "execution_count": null,
   "id": "dd2cfffd-399f-4305-ba0a-f5fa63041904",
   "metadata": {
    "tags": []
   },
   "outputs": [],
   "source": [
    "auth = TokenAuthentication(\n",
    "    token = \"token\",\n",
    "    server = \"url\",\n",
    "    skip_tls=False\n",
    ")\n",
    "auth.login()"
   ]
  },
  {
   "cell_type": "code",
   "execution_count": null,
   "id": "d9f81d59-a4fd-4420-8a83-8eeab9c74f5f",
   "metadata": {
    "tags": []
   },
   "outputs": [],
   "source": [
    "cluster = Cluster(ClusterConfiguration(\n",
    "    name='llamafinetuneloraclustertest',\n",
    "    namespace='default',\n",
    "    num_workers=1,\n",
    "    min_cpus=4,\n",
    "    max_cpus=4,\n",
    "    min_memory=96,\n",
    "    max_memory=96,\n",
    "    num_gpus=2,\n",
    "    image='quay.io/project-codeflare/ray:latest-py39-cu118',\n",
    "    instascale=False, #<---instascale enabled\n",
    "    #machine_types=[\"m5.xlarge\", \"g4dn.xlarge\"],\n",
    "))"
   ]
  },
  {
   "cell_type": "code",
   "execution_count": null,
   "id": "a7c4e2e7-2548-4156-a210-4c6131286db5",
   "metadata": {
    "tags": []
   },
   "outputs": [],
   "source": [
    "cluster.up()"
   ]
  },
  {
   "cell_type": "code",
   "execution_count": null,
   "id": "825eb394-45ec-48c4-863b-57d66c572b0f",
   "metadata": {
    "tags": []
   },
   "outputs": [],
   "source": [
    "cluster.wait_ready()"
   ]
  },
  {
   "cell_type": "code",
   "execution_count": null,
   "id": "5b45df65-7072-4e27-8713-f497cfd90b0a",
   "metadata": {
    "tags": []
   },
   "outputs": [],
   "source": [
    "cluster.details()"
   ]
  },
  {
   "cell_type": "code",
   "execution_count": null,
   "id": "59ff21a7-d27b-4cb7-babb-3c1cd6e3ec7b",
   "metadata": {
    "tags": []
   },
   "outputs": [],
   "source": [
    "from codeflare_sdk.job.jobs import DDPJobDefinition"
   ]
  },
  {
   "cell_type": "code",
   "execution_count": null,
   "id": "8e178b19-c7bb-4219-86ad-5678aeeb1453",
   "metadata": {
    "tags": []
   },
   "outputs": [],
   "source": [
    "jobdef = DDPJobDefinition(\n",
    "    name=\"llamafinetunelora43\",\n",
    "    script=\"llmfinetune.py\",\n",
    "    #script_args=arg_list,\n",
    "    scheduler_args={\"requirements\": \"requirements.txt\"}\n",
    "    \n",
    "\n",
    ")\n",
    "job = jobdef.submit(cluster)"
   ]
  },
  {
   "cell_type": "code",
   "execution_count": null,
   "id": "ad75cd0a-9db0-405c-8e54-25b9db47271a",
   "metadata": {
    "tags": []
   },
   "outputs": [],
   "source": [
    "cluster.down()"
   ]
  }
 ],
 "metadata": {
  "kernelspec": {
   "display_name": "Python 3.9",
   "language": "python",
   "name": "python3"
  },
  "language_info": {
   "codemirror_mode": {
    "name": "ipython",
    "version": 3
   },
   "file_extension": ".py",
   "mimetype": "text/x-python",
   "name": "python",
   "nbconvert_exporter": "python",
   "pygments_lexer": "ipython3",
   "version": "3.9.18"
  }
 },
 "nbformat": 4,
 "nbformat_minor": 5
}
