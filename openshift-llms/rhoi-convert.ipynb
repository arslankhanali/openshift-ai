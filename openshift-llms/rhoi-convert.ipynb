{
 "cells": [
  {
   "cell_type": "code",
   "execution_count": null,
   "id": "8aa3a67b-ebf7-4737-9f41-0730ee009009",
   "metadata": {
    "tags": []
   },
   "outputs": [],
   "source": [
    "!git clone https://github.com/caikit/caikit-nlp.git"
   ]
  },
  {
   "cell_type": "code",
   "execution_count": null,
   "id": "752d93c2-dca2-4d23-9143-ad789a8b61ad",
   "metadata": {
    "tags": []
   },
   "outputs": [],
   "source": [
    "!pip install ./caikit-nlp -q"
   ]
  },
  {
   "cell_type": "code",
   "execution_count": null,
   "id": "130f5630-fb45-4351-9d5f-359667cb47f8",
   "metadata": {
    "tags": []
   },
   "outputs": [],
   "source": [
    "!git clone https://github.com/opendatahub-io/caikit-tgis-serving.git\n"
   ]
  },
  {
   "cell_type": "code",
   "execution_count": null,
   "id": "a6500fde-8d50-4608-b794-8644facf29f2",
   "metadata": {
    "tags": []
   },
   "outputs": [],
   "source": [
    "!cp caikit-tgis-serving/utils/convert.py . \n"
   ]
  },
  {
   "cell_type": "code",
   "execution_count": null,
   "id": "2553340c-1d04-4428-8f98-10b9f84f526b",
   "metadata": {
    "tags": []
   },
   "outputs": [],
   "source": [
    "!pip install --upgrade huggingface_hub\n",
    "!huggingface-cli login --token $huggingface"
   ]
  },
  {
   "cell_type": "code",
   "execution_count": null,
   "id": "969710be-e4d8-44f1-a3c7-d31b48abd2dc",
   "metadata": {
    "tags": []
   },
   "outputs": [],
   "source": [
    "!huggingface-cli download --local-dir ./Mistral-7B-Instruct-v0.2 mistralai/Mistral-7B-Instruct-v0.2 "
   ]
  },
  {
   "cell_type": "code",
   "execution_count": null,
   "id": "64d5397c",
   "metadata": {
    "tags": []
   },
   "outputs": [],
   "source": [
    "!./convert.py --model-path ./Mistral-7B-Instruct-v0.2 --model-save-path ./Mistral-7B-Instruct-v0.2-caikit"
   ]
  },
  {
   "cell_type": "code",
   "execution_count": null,
   "id": "7c4db5c2-ca04-4712-9160-f8bfabcfbefb",
   "metadata": {
    "tags": []
   },
   "outputs": [],
   "source": [
    "!curl https://dl.min.io/client/mc/release/linux-amd64/mc --create-dirs -o ./minio-binaries/mc\n",
    "\n",
    "!chmod +x ./minio-binaries/mc\n",
    "\n",
    "\n",
    "# !./minio-binaries/mc --help"
   ]
  },
  {
   "cell_type": "markdown",
   "id": "7f9e899f-a2b5-4e93-a58d-c448973418c7",
   "metadata": {},
   "source": [
    "### Trying with noobaa\n",
    "\n",
    "It gives an SSL error when I tried: init:Error\n",
    "INFO:root:Initializing, args: src_uri [s3://models-26117bc5-5569-44c1-9383-3c50077e7354/models-26117bc5-5569-44c1-9383-3c50077e7354/Mistral-7B-Instruct-v0.2-caikit] dest_path[ [/mnt/models]\n",
    "INFO:root:Copying contents of s3://models-26117bc5-5569-44c1-9383-3c50077e7354/models-26117bc5-5569-44c1-9383-3c50077e7354/Mistral-7B-Instruct-v0.2-caikit to local\n",
    "INFO:botocore.credentials:Found credentials in environment variables.\n",
    "Traceback (most recent call last):\n",
    "File \"/prod_venv/lib64/python3.9/site-packages/urllib3/connectionpool.py\", line 714, in urlopen\n",
    "httplib_response = self._make_request(\n",
    "File \"/prod_venv/lib64/python3.9/site-packages/urllib3/connectionpool.py\", line 403, in _make_request\n",
    "self._validate_conn(conn)\n",
    "File \"/prod_venv/lib64/python3.9/site-packages/urllib3/connectionpool.py\", line 1053, in _validate_conn\n",
    "conn.connect()\n",
    "File \"/prod_venv/lib64/python3.9/site-packages/urllib3/connection.py\", line 419, in connect\n",
    "self.sock = ssl_wrap_socket(\n",
    "File \"/prod_venv/lib64/python3.9/site-packages/urllib3/util/ssl_.py\", line 449, in ssl_wrap_socket\n",
    "ssl_sock = _ssl_wrap_socket_impl(\n",
    "File \"/prod_venv/lib64/python3.9/site-packages/urllib3/util/ssl_.py\", line 493, in _ssl_wrap_socket_impl\n",
    "return ssl_context.wrap_socket(sock, server_hostname=server_hostname)\n",
    "File \"/usr/lib64/python3.9/ssl.py\", line 501, in wrap_socket\n",
    "return self.sslsocket_class._create(\n",
    "File \"/usr/lib64/python3.9/ssl.py\", line 1074, in _create\n",
    "self.do_handshake()\n",
    "File \"/usr/lib64/python3.9/ssl.py\", line 1343, in do_handshake\n",
    "self._sslobj.do_handshake()\n",
    "ssl.SSLCertVerificationError: [SSL: CERTIFICATE_VERIFY_FAILED] certificate verify failed: self signed certificate in certificate chain (_ssl.c:1129)\n",
    "During handling of the above exception, another exception occurred:"
   ]
  },
  {
   "cell_type": "code",
   "execution_count": null,
   "id": "f7935128-41e6-4e7e-b416-59fa2e5c65e3",
   "metadata": {
    "tags": []
   },
   "outputs": [],
   "source": [
    "import os\n",
    "import boto3\n",
    "\n",
    "key_id = os.getenv(\"AWS_ACCESS_KEY_ID\")\n",
    "secret_key = os.getenv(\"AWS_SECRET_ACCESS_KEY\")\n",
    "region = os.getenv(\"AWS_DEFAULT_REGION\")\n",
    "endpoint = os.getenv(\"AWS_S3_ENDPOINT\")\n",
    "bucket_name = os.getenv(\"AWS_S3_BUCKET\")"
   ]
  },
  {
   "cell_type": "code",
   "execution_count": null,
   "id": "fb8e9120-a4b2-4819-98e0-dc76682c31f9",
   "metadata": {
    "tags": []
   },
   "outputs": [],
   "source": [
    "!./minio-binaries/mc alias set noobaa $endpoint --api \"s3v4\" $key_id $secret_key"
   ]
  },
  {
   "cell_type": "code",
   "execution_count": null,
   "id": "6ed3b1f0-27bc-46e3-9ad9-8b32358aa034",
   "metadata": {
    "tags": []
   },
   "outputs": [],
   "source": [
    "#!./minio-binaries/mc alias ls"
   ]
  },
  {
   "cell_type": "code",
   "execution_count": null,
   "id": "37b204f1-df41-494d-9122-10555cee5f55",
   "metadata": {
    "tags": []
   },
   "outputs": [],
   "source": [
    "!./minio-binaries/mc ls noobaa"
   ]
  },
  {
   "cell_type": "code",
   "execution_count": null,
   "id": "821f606a-2f00-4e10-800d-2dc94489a9b1",
   "metadata": {
    "tags": []
   },
   "outputs": [],
   "source": [
    "!./minio-binaries/mc cp -r Mistral-7B-Instruct-v0.2-caikit noobaa/models-26117bc5-5569-44c1-9383-3c50077e7354/"
   ]
  },
  {
   "cell_type": "code",
   "execution_count": null,
   "id": "bcf98609-6d22-41e2-9702-2444bd4cfb5a",
   "metadata": {
    "tags": []
   },
   "outputs": [],
   "source": [
    "!./minio-binaries/mc ls noobaa/models-26117bc5-5569-44c1-9383-3c50077e7354/Mistral-7B-Instruct-v0.2-caikit/"
   ]
  },
  {
   "cell_type": "markdown",
   "id": "41c5ab90-ab2a-4b36-800b-697662fcb901",
   "metadata": {},
   "source": [
    "### Trying with minio"
   ]
  },
  {
   "cell_type": "code",
   "execution_count": null,
   "id": "fba8ba98-ed8e-4347-a3e7-52a73d92da57",
   "metadata": {
    "tags": []
   },
   "outputs": [],
   "source": [
    "!./minio-binaries/mc alias set minio https://minio-api-minio.apps.cluster-.sandbox991.opentlc.com --api \"s3v4\" minio minio123"
   ]
  },
  {
   "cell_type": "code",
   "execution_count": null,
   "id": "2bdff409-298c-40f9-aa2b-37d70ffdf413",
   "metadata": {
    "tags": []
   },
   "outputs": [],
   "source": [
    "!./minio-binaries/mc ls minio"
   ]
  },
  {
   "cell_type": "code",
   "execution_count": null,
   "id": "7f28c0d5-ff84-45f4-bb77-be05822921e7",
   "metadata": {
    "tags": []
   },
   "outputs": [],
   "source": [
    "!./minio-binaries/mc cp -r Mistral-7B-Instruct-v0.2-caikit minio/models"
   ]
  },
  {
   "cell_type": "code",
   "execution_count": null,
   "id": "6e69729e-a262-47fe-9e8d-3c15d957fd73",
   "metadata": {
    "tags": []
   },
   "outputs": [],
   "source": [
    "!./minio-binaries/mc ls minio/models/Mistral-7B-Instruct-v0.2-caikit"
   ]
  },
  {
   "cell_type": "code",
   "execution_count": null,
   "id": "44741b39-14bd-41be-8031-60d7a2bf01ef",
   "metadata": {},
   "outputs": [],
   "source": []
  }
 ],
 "metadata": {
  "kernelspec": {
   "display_name": "Python 3.9",
   "language": "python",
   "name": "python3"
  },
  "language_info": {
   "codemirror_mode": {
    "name": "ipython",
    "version": 3
   },
   "file_extension": ".py",
   "mimetype": "text/x-python",
   "name": "python",
   "nbconvert_exporter": "python",
   "pygments_lexer": "ipython3",
   "version": "3.9.18"
  }
 },
 "nbformat": 4,
 "nbformat_minor": 5
}
