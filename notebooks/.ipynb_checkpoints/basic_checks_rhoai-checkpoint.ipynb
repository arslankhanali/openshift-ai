{
 "cells": [
  {
   "cell_type": "markdown",
   "metadata": {},
   "source": [
    "## Check GPU availability"
   ]
  },
  {
   "cell_type": "code",
   "execution_count": 1,
   "metadata": {
    "tags": []
   },
   "outputs": [],
   "source": [
    "# pip install torch tensorflow\n",
    "# pip install boto3 -q\n",
    "# pip install s3cmd -q\n",
    "import torch\n",
    "import os\n",
    "import boto3"
   ]
  },
  {
   "cell_type": "code",
   "execution_count": 2,
   "metadata": {
    "tags": []
   },
   "outputs": [
    {
     "name": "stdout",
     "output_type": "stream",
     "text": [
      "Found 1 GPU(s) available.\n",
      "GPU 0: NVIDIA A10G\n"
     ]
    }
   ],
   "source": [
    "\n",
    "# Check if CUDA (GPU support for PyTorch) is available\n",
    "if torch.cuda.is_available():\n",
    "    # Get the number of available GPUs\n",
    "    gpu_count = torch.cuda.device_count()\n",
    "    print(f\"Found {gpu_count} GPU(s) available.\")\n",
    "    for i in range(gpu_count):\n",
    "        print(f\"GPU is : {torch.cuda.get_device_name(i)}\")\n",
    "else:\n",
    "    print(\"No GPU available.\")\n"
   ]
  },
  {
   "cell_type": "markdown",
   "metadata": {},
   "source": [
    "### Check connection to s3 storage"
   ]
  },
  {
   "cell_type": "code",
   "execution_count": 2,
   "metadata": {
    "tags": []
   },
   "outputs": [
    {
     "name": "stdout",
     "output_type": "stream",
     "text": [
      "llm-6219e3b5-aae8-4b37-852c-6fcd7180339a\n",
      "\n"
     ]
    }
   ],
   "source": [
    "# Get environment variables\n",
    "import os\n",
    "aws_access_key_id = os.getenv(\"AWS_ACCESS_KEY_ID\")\n",
    "aws_secret_access_key = os.getenv(\"AWS_SECRET_ACCESS_KEY\")\n",
    "aws_default_region = None\n",
    "aws_s3_bucket = os.getenv(\"AWS_S3_BUCKET\")\n",
    "aws_s3_endpoint = 'http://s3.openshift-storage.svc:80/'\n",
    "\n",
    "print(aws_s3_bucket)"
   ]
  },
  {
   "cell_type": "markdown",
   "metadata": {},
   "source": [
    "#### 1. boto3 client"
   ]
  },
  {
   "cell_type": "code",
   "execution_count": 3,
   "metadata": {
    "tags": []
   },
   "outputs": [
    {
     "ename": "NameError",
     "evalue": "name 'boto3' is not defined",
     "output_type": "error",
     "traceback": [
      "\u001b[0;31m---------------------------------------------------------------------------\u001b[0m",
      "\u001b[0;31mNameError\u001b[0m                                 Traceback (most recent call last)",
      "Cell \u001b[0;32mIn[3], line 2\u001b[0m\n\u001b[1;32m      1\u001b[0m \u001b[38;5;66;03m# Create S3 client\u001b[39;00m\n\u001b[0;32m----> 2\u001b[0m s3 \u001b[38;5;241m=\u001b[39m \u001b[43mboto3\u001b[49m\u001b[38;5;241m.\u001b[39mclient(\n\u001b[1;32m      3\u001b[0m     \u001b[38;5;124m'\u001b[39m\u001b[38;5;124ms3\u001b[39m\u001b[38;5;124m'\u001b[39m,\n\u001b[1;32m      4\u001b[0m     aws_access_key_id\u001b[38;5;241m=\u001b[39maws_access_key_id,\n\u001b[1;32m      5\u001b[0m     aws_secret_access_key\u001b[38;5;241m=\u001b[39maws_secret_access_key,\n\u001b[1;32m      6\u001b[0m     region_name\u001b[38;5;241m=\u001b[39maws_default_region,\n\u001b[1;32m      7\u001b[0m     endpoint_url\u001b[38;5;241m=\u001b[39maws_s3_endpoint,\n\u001b[1;32m      8\u001b[0m     use_ssl\u001b[38;5;241m=\u001b[39m\u001b[38;5;28;01mFalse\u001b[39;00m\n\u001b[1;32m      9\u001b[0m )\n\u001b[1;32m     11\u001b[0m \u001b[38;5;66;03m# Test the connection by listing buckets\u001b[39;00m\n\u001b[1;32m     12\u001b[0m \u001b[38;5;28;01mtry\u001b[39;00m:\n",
      "\u001b[0;31mNameError\u001b[0m: name 'boto3' is not defined"
     ]
    }
   ],
   "source": [
    "# Create S3 client\n",
    "s3 = boto3.client(\n",
    "    's3',\n",
    "    aws_access_key_id=aws_access_key_id,\n",
    "    aws_secret_access_key=aws_secret_access_key,\n",
    "    region_name=aws_default_region,\n",
    "    endpoint_url=aws_s3_endpoint,\n",
    "    use_ssl=False\n",
    ")\n",
    "\n",
    "# Test the connection by listing buckets\n",
    "try:\n",
    "    response = s3.list_buckets()\n",
    "    print(\"Connection successful. Available buckets:\")\n",
    "    for bucket in response['Buckets']:\n",
    "        print(bucket['Name'])\n",
    "except Exception as e:\n",
    "    print(f\"Connection failed: {e}\")"
   ]
  },
  {
   "cell_type": "markdown",
   "metadata": {},
   "source": [
    "#### 2: Minio CLI"
   ]
  },
  {
   "cell_type": "code",
   "execution_count": 20,
   "metadata": {
    "tags": []
   },
   "outputs": [
    {
     "name": "stdout",
     "output_type": "stream",
     "text": [
      "  % Total    % Received % Xferd  Average Speed   Time    Time     Time  Current\n",
      "                                 Dload  Upload   Total   Spent    Left  Speed\n",
      "100 25.2M  100 25.2M    0     0  16.6M      0  0:00:01  0:00:01 --:--:-- 16.6M\n"
     ]
    }
   ],
   "source": [
    "!curl https://dl.min.io/client/mc/release/linux-amd64/mc --create-dirs -o ./minio-binaries/mc\n",
    "!chmod +x ./minio-binaries/mc"
   ]
  },
  {
   "cell_type": "code",
   "execution_count": 21,
   "metadata": {
    "tags": []
   },
   "outputs": [
    {
     "name": "stdout",
     "output_type": "stream",
     "text": [
      "\u001b]11;?\u001b\\\u001b[6n\u001b[32;1mmc: \u001b[0m\u001b[32;1mConfiguration written to `/opt/app-root/src/.mc/config.json`. Please update your access credentials.\u001b[0;22m\n",
      "\u001b[32;1mmc: \u001b[0m\u001b[32;1mSuccessfully created `/opt/app-root/src/.mc/share`.\n",
      "\u001b[0m\u001b[32;1mmc: \u001b[0m\u001b[32;1mInitialized share uploads `/opt/app-root/src/.mc/share/uploads.json` file.\n",
      "\u001b[0m\u001b[32;1mmc: \u001b[0m\u001b[32;1mInitialized share downloads `/opt/app-root/src/.mc/share/downloads.json` file.\n",
      "\u001b[0m\u001b[m\u001b[32mAdded `noobaa` successfully.\u001b[0m\u001b[m\n"
     ]
    }
   ],
   "source": [
    "!./minio-binaries/mc alias set noobaa $AWS_S3_ENDPOINT --api \"S3v4\" $AWS_ACCESS_KEY_ID $AWS_SECRET_ACCESS_KEY"
   ]
  },
  {
   "cell_type": "code",
   "execution_count": 22,
   "metadata": {
    "tags": []
   },
   "outputs": [
    {
     "name": "stdout",
     "output_type": "stream",
     "text": [
      "\u001b]11;?\u001b\\\u001b[6n\u001b[m\u001b[36;1mgcs   \n",
      "\u001b[0;22m\u001b[33m  URL       : https://storage.googleapis.com\n",
      "\u001b[0m\u001b[36m  AccessKey : YOUR-ACCESS-KEY-HERE\n",
      "\u001b[0m\u001b[36m  SecretKey : YOUR-SECRET-KEY-HERE\n",
      "\u001b[0m\u001b[34m  API       : S3v2\n",
      "\u001b[0m\u001b[36m  Path      : dns\n",
      "\u001b[0m\u001b[m\n",
      "\u001b[m\u001b[36;1mlocal \n",
      "\u001b[0;22m\u001b[33m  URL       : http://localhost:9000\n",
      "\u001b[0m\u001b[36m  AccessKey : \n",
      "\u001b[0m\u001b[36m  SecretKey : \n",
      "\u001b[0m\u001b[34m  API       : \n",
      "\u001b[0m\u001b[36m  Path      : auto\n",
      "\u001b[0m\u001b[m\n",
      "\u001b[m\u001b[36;1mnoobaa\n",
      "\u001b[0;22m\u001b[33m  URL       : http://s3.openshift-storage.svc:80\n",
      "\u001b[0m\u001b[36m  AccessKey : XV07CKsPMJTOW2MDMmBt\n",
      "\u001b[0m\u001b[36m  SecretKey : +yD7+DX6feq3M12GNrlE6LTU+GHBPK8tHXZUsaau\n",
      "\u001b[0m\u001b[34m  API       : S3v4\n",
      "\u001b[0m\u001b[36m  Path      : auto\n",
      "\u001b[0m\u001b[m\n",
      "\u001b[m\u001b[36;1mplay  \n",
      "\u001b[0;22m\u001b[33m  URL       : https://play.min.io\n",
      "\u001b[0m\u001b[36m  AccessKey : Q3AM3UQ867SPQQA43P2F\n",
      "\u001b[0m\u001b[36m  SecretKey : zuf+tfteSlswRu7BJ86wekitnifILbZam1KYY3TG\n",
      "\u001b[0m\u001b[34m  API       : S3v4\n",
      "\u001b[0m\u001b[36m  Path      : auto\n",
      "\u001b[0m\u001b[m\n",
      "\u001b[m\u001b[36;1ms3    \n",
      "\u001b[0;22m\u001b[33m  URL       : https://s3.amazonaws.com\n",
      "\u001b[0m\u001b[36m  AccessKey : YOUR-ACCESS-KEY-HERE\n",
      "\u001b[0m\u001b[36m  SecretKey : YOUR-SECRET-KEY-HERE\n",
      "\u001b[0m\u001b[34m  API       : S3v4\n",
      "\u001b[0m\u001b[36m  Path      : dns\n",
      "\u001b[0m\u001b[m\n"
     ]
    }
   ],
   "source": [
    "!./minio-binaries/mc alias ls"
   ]
  },
  {
   "cell_type": "code",
   "execution_count": 23,
   "metadata": {
    "tags": []
   },
   "outputs": [
    {
     "name": "stdout",
     "output_type": "stream",
     "text": [
      "\u001b]11;?\u001b\\\u001b[6n\u001b[m\u001b[36;1mnoobaa\n",
      "\u001b[0;22m\u001b[33m  URL       : http://s3.openshift-storage.svc:80\n",
      "\u001b[0m\u001b[36m  AccessKey : XV07CKsPMJTOW2MDMmBt\n",
      "\u001b[0m\u001b[36m  SecretKey : +yD7+DX6feq3M12GNrlE6LTU+GHBPK8tHXZUsaau\n",
      "\u001b[0m\u001b[34m  API       : S3v4\n",
      "\u001b[0m\u001b[36m  Path      : auto\n",
      "\u001b[0m\u001b[m\n"
     ]
    }
   ],
   "source": [
    "!./minio-binaries/mc alias ls noobaa"
   ]
  },
  {
   "cell_type": "markdown",
   "metadata": {},
   "source": [
    "#### 3: s3cmd"
   ]
  },
  {
   "cell_type": "code",
   "execution_count": 12,
   "metadata": {
    "tags": []
   },
   "outputs": [
    {
     "name": "stdout",
     "output_type": "stream",
     "text": [
      "\n",
      "\u001b[1m[\u001b[0m\u001b[34;49mnotice\u001b[0m\u001b[1;39;49m]\u001b[0m\u001b[39;49m A new release of pip available: \u001b[0m\u001b[31;49m22.2.2\u001b[0m\u001b[39;49m -> \u001b[0m\u001b[32;49m24.0\u001b[0m\n",
      "\u001b[1m[\u001b[0m\u001b[34;49mnotice\u001b[0m\u001b[1;39;49m]\u001b[0m\u001b[39;49m To update, run: \u001b[0m\u001b[32;49mpip install --upgrade pip\u001b[0m\n",
      "Note: you may need to restart the kernel to use updated packages.\n"
     ]
    }
   ],
   "source": [
    "pip install s3cmd -q"
   ]
  },
  {
   "cell_type": "code",
   "execution_count": 11,
   "metadata": {
    "tags": []
   },
   "outputs": [
    {
     "name": "stdout",
     "output_type": "stream",
     "text": [
      "2024-05-03 03:21  s3://llm-6219e3b5-aae8-4b37-852c-6fcd7180339a\n"
     ]
    }
   ],
   "source": [
    "!s3cmd --access_key=$AWS_ACCESS_KEY_ID --secret_key=$AWS_SECRET_ACCESS_KEY --host=$AWS_S3_ENDPOINT --no-ssl ls\n"
   ]
  },
  {
   "cell_type": "code",
   "execution_count": 10,
   "metadata": {},
   "outputs": [],
   "source": [
    "s3c=\"s3cmd --access_key=$AWS_ACCESS_KEY_ID --secret_key=$AWS_SECRET_ACCESS_KEY --host=$AWS_S3_ENDPOINT --no-ssl\"\n",
    "!$s3c ls"
   ]
  },
  {
   "cell_type": "code",
   "execution_count": 15,
   "metadata": {
    "tags": []
   },
   "outputs": [
    {
     "name": "stdout",
     "output_type": "stream",
     "text": [
      "2024-05-04 13:46  s3://llm-6219e3b5-aae8-4b37-852c-6fcd7180339a\n"
     ]
    }
   ],
   "source": []
  },
  {
   "cell_type": "code",
   "execution_count": null,
   "metadata": {},
   "outputs": [],
   "source": []
  }
 ],
 "metadata": {
  "kernelspec": {
   "display_name": "Python 3.9",
   "language": "python",
   "name": "python3"
  },
  "language_info": {
   "codemirror_mode": {
    "name": "ipython",
    "version": 3
   },
   "file_extension": ".py",
   "mimetype": "text/x-python",
   "name": "python",
   "nbconvert_exporter": "python",
   "pygments_lexer": "ipython3",
   "version": "3.9.18"
  }
 },
 "nbformat": 4,
 "nbformat_minor": 4
}
