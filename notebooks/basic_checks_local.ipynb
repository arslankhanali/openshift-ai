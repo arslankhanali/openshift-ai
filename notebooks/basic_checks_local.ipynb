{
 "cells": [
  {
   "cell_type": "markdown",
   "metadata": {},
   "source": [
    "## Check GPU availability"
   ]
  },
  {
   "cell_type": "code",
   "execution_count": 3,
   "metadata": {},
   "outputs": [],
   "source": [
    "# pip install torch tensorflow\n",
    "# pip install boto3 -q\n",
    "# pip install s3cmd -q\n",
    "import torch\n",
    "import os\n",
    "import boto3"
   ]
  },
  {
   "cell_type": "code",
   "execution_count": 3,
   "metadata": {},
   "outputs": [
    {
     "name": "stdout",
     "output_type": "stream",
     "text": [
      "No GPU available.\n"
     ]
    }
   ],
   "source": [
    "# Check if CUDA (GPU support for PyTorch) is available\n",
    "if torch.cuda.is_available():\n",
    "    # Get the number of available GPUs\n",
    "    gpu_count = torch.cuda.device_count()\n",
    "    print(f\"Found {gpu_count} GPU(s) available.\")\n",
    "    for i in range(gpu_count):\n",
    "        print(f\"GPU {i}: {torch.cuda.get_device_name(i)}\")\n",
    "else:\n",
    "    print(\"No GPU available.\")\n"
   ]
  },
  {
   "cell_type": "markdown",
   "metadata": {},
   "source": [
    "### Check connection to s3 storage"
   ]
  },
  {
   "cell_type": "code",
   "execution_count": 4,
   "metadata": {},
   "outputs": [
    {
     "name": "stdout",
     "output_type": "stream",
     "text": [
      "llm-14bd79ed-3012-462b-8508-27601fe9a7d8\n"
     ]
    }
   ],
   "source": [
    "# Set environment variables\n",
    "os.environ['AWS_ACCESS_KEY_ID'] = 'TTwJsSbYngYpcVkifrpl' # notsecret\n",
    "os.environ['AWS_SECRET_ACCESS_KEY'] = 'xLCbKEdTh0csUZR9hZJ5/8NlLXm29SyslrR8o4lQ' # notsecret\n",
    "os.environ['AWS_DEFAULT_REGION'] = 'None'\n",
    "os.environ['AWS_S3_BUCKET'] = 'llm-14bd79ed-3012-462b-8508-27601fe9a7d8' # notsecret\n",
    "# If running from RHOAI Jupyter notebook\n",
    "# os.environ['AWS_S3_ENDPOINT'] = 'http://s3.openshift-storage.svc:80'\n",
    "# If running from your laptop\n",
    "os.environ['AWS_S3_ENDPOINT'] = 'http://s3-openshift-storage.apps.cluster-nzpgd.sandbox2914.opentlc.com'\n",
    "\n",
    "aws_access_key_id = os.getenv(\"AWS_ACCESS_KEY_ID\")\n",
    "aws_secret_access_key = os.getenv(\"AWS_SECRET_ACCESS_KEY\")\n",
    "aws_default_region = os.getenv(\"AWS_DEFAULT_REGION\")\n",
    "aws_s3_bucket = os.getenv(\"AWS_S3_BUCKET\")\n",
    "aws_s3_endpoint = os.getenv(\"AWS_S3_ENDPOINT\")\n",
    "\n",
    "print(aws_s3_bucket)"
   ]
  },
  {
   "cell_type": "markdown",
   "metadata": {},
   "source": [
    "#### 1. boto3 client"
   ]
  },
  {
   "cell_type": "code",
   "execution_count": 5,
   "metadata": {},
   "outputs": [
    {
     "name": "stdout",
     "output_type": "stream",
     "text": [
      "Connection successful. Available buckets:\n",
      "llm-14bd79ed-3012-462b-8508-27601fe9a7d8\n"
     ]
    }
   ],
   "source": [
    "# Create S3 client\n",
    "s3 = boto3.client(\n",
    "    's3',\n",
    "    aws_access_key_id=aws_access_key_id,\n",
    "    aws_secret_access_key=aws_secret_access_key,\n",
    "    region_name=aws_default_region,\n",
    "    endpoint_url=aws_s3_endpoint,\n",
    "    use_ssl=False\n",
    ")\n",
    "\n",
    "# Test the connection by listing buckets\n",
    "try:\n",
    "    response = s3.list_buckets()\n",
    "    print(\"Connection successful. Available buckets:\")\n",
    "    for bucket in response['Buckets']:\n",
    "        print(bucket['Name'])\n",
    "except Exception as e:\n",
    "    print(f\"Connection failed: {e}\")"
   ]
  },
  {
   "cell_type": "markdown",
   "metadata": {},
   "source": [
    "#### 2: Minio CLI"
   ]
  },
  {
   "cell_type": "code",
   "execution_count": 73,
   "metadata": {},
   "outputs": [
    {
     "name": "stdout",
     "output_type": "stream",
     "text": [
      "\u001b]11;?\u001b\\\u001b[6n\u001b[m\u001b[32mAdded `noobaa` successfully.\u001b[0m\u001b[m\n"
     ]
    }
   ],
   "source": [
    "!mc alias set noobaa $AWS_S3_ENDPOINT --api \"S3v4\" $AWS_ACCESS_KEY_ID $AWS_SECRET_ACCESS_KEY"
   ]
  },
  {
   "cell_type": "code",
   "execution_count": 78,
   "metadata": {},
   "outputs": [
    {
     "name": "stdout",
     "output_type": "stream",
     "text": [
      "\u001b]11;?\u001b\\\u001b[6n\u001b[m\u001b[36;1mlocal \n",
      "\u001b[0;22m\u001b[33m  URL       : http://localhost:9000\n",
      "\u001b[0m\u001b[36m  AccessKey : \n",
      "\u001b[0m\u001b[36m  SecretKey : \n",
      "\u001b[0m\u001b[34m  API       : \n",
      "\u001b[0m\u001b[36m  Path      : auto\n",
      "\u001b[0m\u001b[m\n",
      "\u001b[m\u001b[36;1mnoobaa\n",
      "\u001b[0;22m\u001b[33m  URL       : http://s3-openshift-storage.apps.cluster-fnth8.sandbox1251.opentlc.com:80\n",
      "\u001b[0m\u001b[36m  AccessKey : alBYOJjcY2ns7AZYLpI6\n",
      "\u001b[0m\u001b[36m  SecretKey : /1bHgvAW2LaL+XpNxxHBpAG9zonFDr2RO14OXfQQ\n",
      "\u001b[0m\u001b[34m  API       : S3v4\n",
      "\u001b[0m\u001b[36m  Path      : auto\n",
      "\u001b[0m\u001b[m\n",
      "\u001b[m\u001b[36;1ms3    \n",
      "\u001b[0;22m\u001b[33m  URL       : https://s3.amazonaws.com\n",
      "\u001b[0m\u001b[36m  AccessKey : YOUR-ACCESS-KEY-HERE\n",
      "\u001b[0m\u001b[36m  SecretKey : YOUR-SECRET-KEY-HERE\n",
      "\u001b[0m\u001b[34m  API       : S3v4\n",
      "\u001b[0m\u001b[36m  Path      : dns\n",
      "\u001b[0m\u001b[m\n"
     ]
    }
   ],
   "source": [
    "!mc alias ls"
   ]
  },
  {
   "cell_type": "markdown",
   "metadata": {},
   "source": [
    "#### 3: s3cmd"
   ]
  },
  {
   "cell_type": "code",
   "execution_count": 6,
   "metadata": {},
   "outputs": [
    {
     "name": "stdout",
     "output_type": "stream",
     "text": [
      "2024-05-01 07:09  s3://llm-14bd79ed-3012-462b-8508-27601fe9a7d8\n"
     ]
    }
   ],
   "source": [
    "!s3cmd --access_key=$AWS_ACCESS_KEY_ID --secret_key=$AWS_SECRET_ACCESS_KEY --host=$AWS_S3_ENDPOINT --no-ssl ls\n"
   ]
  },
  {
   "cell_type": "code",
   "execution_count": 8,
   "metadata": {},
   "outputs": [
    {
     "name": "stdout",
     "output_type": "stream",
     "text": [
      "2024-05-01 07:00      2183982  s3://llm-14bd79ed-3012-462b-8508-27601fe9a7d8/.\n"
     ]
    }
   ],
   "source": [
    "!s3cmd --access_key=$AWS_ACCESS_KEY_ID --secret_key=$AWS_SECRET_ACCESS_KEY --host=$AWS_S3_ENDPOINT --no-ssl ls s3://llm-14bd79ed-3012-462b-8508-27601fe9a7d8"
   ]
  },
  {
   "cell_type": "code",
   "execution_count": 10,
   "metadata": {},
   "outputs": [
    {
     "ename": "SyntaxError",
     "evalue": "invalid decimal literal (3095613166.py, line 1)",
     "output_type": "error",
     "traceback": [
      "\u001b[0;36m  Cell \u001b[0;32mIn[10], line 1\u001b[0;36m\u001b[0m\n\u001b[0;31m    s3cmd du -H -s s3://llm-14bd79ed-3012-462b-8508-27601fe9a7d8\u001b[0m\n\u001b[0m                             ^\u001b[0m\n\u001b[0;31mSyntaxError\u001b[0m\u001b[0;31m:\u001b[0m invalid decimal literal\n"
     ]
    }
   ],
   "source": [
    "s3cmd du -H -s s3://llm-14bd79ed-3012-462b-8508-27601fe9a7d8"
   ]
  }
 ],
 "metadata": {
  "kernelspec": {
   "display_name": ".venv",
   "language": "python",
   "name": "python3"
  },
  "language_info": {
   "codemirror_mode": {
    "name": "ipython",
    "version": 3
   },
   "file_extension": ".py",
   "mimetype": "text/x-python",
   "name": "python",
   "nbconvert_exporter": "python",
   "pygments_lexer": "ipython3",
   "version": "3.11.9"
  }
 },
 "nbformat": 4,
 "nbformat_minor": 2
}
